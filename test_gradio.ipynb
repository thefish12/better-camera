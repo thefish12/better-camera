{
 "cells": [
  {
   "cell_type": "code",
   "execution_count": null,
   "id": "dcce2969-e44e-44fa-956e-2b63be247868",
   "metadata": {},
   "outputs": [],
   "source": [
    "#gradio==3.50.2\n",
    "import gradio as gr\n",
    "import random\n",
    "\n",
    "def f(im):\n",
    "    output_text=\"\"\n",
    "    output=random.randint(0,3)\n",
    "    if output==0:\n",
    "        output_text=\"可以拍摄\"\n",
    "    elif output==1:\n",
    "        output_text=\"有遮挡\"\n",
    "    elif output==2:\n",
    "        output_text=\"未注视摄像头\"\n",
    "    else:\n",
    "        output_text=\"未注视摄像头且有遮挡\"\n",
    "    return output_text\n",
    "\n",
    "demo = gr.Interface(\n",
    "    f,\n",
    "    gr.Image(source=\"webcam\", streaming=True),\n",
    "    \"text\",\n",
    "    live=True\n",
    ")\n",
    "demo.launch()\n"
   ]
  },
  {
   "cell_type": "code",
   "execution_count": null,
   "id": "f179df93-fac8-4c4a-9168-80e61bb10bce",
   "metadata": {},
   "outputs": [],
   "source": []
  }
 ],
 "metadata": {
  "kernelspec": {
   "display_name": "Python 3 (ipykernel)",
   "language": "python",
   "name": "python3"
  },
  "language_info": {
   "codemirror_mode": {
    "name": "ipython",
    "version": 3
   },
   "file_extension": ".py",
   "mimetype": "text/x-python",
   "name": "python",
   "nbconvert_exporter": "python",
   "pygments_lexer": "ipython3",
   "version": "3.11.7"
  }
 },
 "nbformat": 4,
 "nbformat_minor": 5
}
